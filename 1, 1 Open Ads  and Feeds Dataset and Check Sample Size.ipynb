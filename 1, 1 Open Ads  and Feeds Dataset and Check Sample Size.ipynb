{
 "cells": [
  {
   "cell_type": "markdown",
   "metadata": {},
   "source": [
    "# Step 0 Load Dataset\n",
    "- In this step, you use pandas to load `train_data_ads.csv` and `train_data_feeds.csv` as a panda dataframe.\n",
    "- Source: https://colab.research.google.com/drive/1hzpIXsnND-pn6QnGnqJXwllFlHiO8A-d#scrollTo=JVpsdm1lrX-H "
   ]
  },
  {
   "cell_type": "code",
   "execution_count": 3,
   "metadata": {},
   "outputs": [
    {
     "name": "stdout",
     "output_type": "stream",
     "text": [
      "data is loaded...\n"
     ]
    }
   ],
   "source": [
    "import pandas as pd \n",
    "df_ads = pd.read_csv('../Data/train_data_ads.csv')\n",
    "df_feeds = pd.read_csv('../Data/train_data_feeds.csv')\n",
    "print(\"data is loaded...\") # 31.8 s"
   ]
  },
  {
   "cell_type": "markdown",
   "metadata": {},
   "source": []
  },
  {
   "cell_type": "markdown",
   "metadata": {},
   "source": [
    "# Step 1 Explore The Dataset\n",
    "\n",
    "For each table, answer the following questions:\n",
    "- Exercise 1.1: Print the dimension of the dataframe\n",
    "- Exercise 1.2: Print the column name of the dataframe\n",
    "- Exercise 1.3: Sort the columns based on their number of unique values"
   ]
  },
  {
   "cell_type": "code",
   "execution_count": 14,
   "metadata": {},
   "outputs": [],
   "source": [
    "def describe_dataframe(df):\n",
    "    # Solution 1.1: Get the shape of the DataFrame\n",
    "    shape_description = \"(I) Shape of the DataFrame:\\n\"\n",
    "    shape_description += f\"The DataFrame has {df.shape[0]} rows and {df.shape[1]} columns.\\n\\n\"\n",
    "\n",
    "    # Solution 1.2: Get the columns of the DataFrame and format them\n",
    "    columns = df.columns.tolist()\n",
    "    columns_description = \"(II) Columns of the DataFrame:\\n\"\n",
    "    for i in range(0, len(columns), 5):\n",
    "        columns_description += \", \".join(columns[i:i+5]) + \"\\n\"\n",
    "    columns_description += \"\\n\"\n",
    "\n",
    "    # Solution 1.3: Get the number of unique values for each column, sorted by value\n",
    "    unique_values = df.nunique().sort_values()\n",
    "    unique_values_description = \"(III) Number of unique values per column (sorted in ascending order):\\n\"\n",
    "    unique_values_list = [f\"{col}: {unique_values[col]}\" for col in unique_values.index]\n",
    "    for i in range(0, len(unique_values_list), 5):\n",
    "        unique_values_description += \", \".join(unique_values_list[i:i+5]) + \"\\n\"\n",
    "\n",
    "    # Combine all descriptions\n",
    "    full_description = f\"{shape_description}{columns_description}{unique_values_description}\"\n",
    "\n",
    "    return full_description"
   ]
  },
  {
   "cell_type": "markdown",
   "metadata": {},
   "source": [
    "## Answer to Ads Table"
   ]
  },
  {
   "cell_type": "code",
   "execution_count": 17,
   "metadata": {},
   "outputs": [
    {
     "name": "stdout",
     "output_type": "stream",
     "text": [
      "(I) Shape of the DataFrame:\n",
      "The DataFrame has 7675517 rows and 35 columns.\n",
      "\n",
      "(II) Columns of the DataFrame:\n",
      "log_id, label, user_id, age, gender\n",
      "residence, city, city_rank, series_dev, series_group\n",
      "emui_dev, device_name, device_size, net_type, task_id\n",
      "adv_id, creat_type_cd, adv_prim_id, inter_type_cd, slot_id\n",
      "site_id, spread_app_id, hispace_app_tags, app_second_class, app_score\n",
      "ad_click_list_v001, ad_click_list_v002, ad_click_list_v003, ad_close_list_v001, ad_close_list_v002\n",
      "ad_close_list_v003, pt_d, u_newsCatInterestsST, u_refreshTimes, u_feedLifeCycle\n",
      "\n",
      "(III) Number of unique values per column (sorted in ascending order):\n",
      "site_id: 1, label: 2, app_score: 3, gender: 3, inter_type_cd: 4\n",
      "city_rank: 4, net_type: 6, series_group: 7, u_feedLifeCycle: 8, age: 8\n",
      "creat_type_cd: 9, u_refreshTimes: 10, app_second_class: 20, series_dev: 27, emui_dev: 27\n",
      "residence: 35, hispace_app_tags: 43, slot_id: 60, spread_app_id: 116, device_name: 256\n",
      "city: 341, adv_prim_id: 545, device_size: 1547, ad_close_list_v003: 1715, ad_close_list_v002: 2701\n",
      "ad_close_list_v001: 3883, pt_d: 5436, task_id: 11209, adv_id: 12615, ad_click_list_v003: 61102\n",
      "user_id: 65297, ad_click_list_v002: 95376, ad_click_list_v001: 108720, u_newsCatInterestsST: 187576, log_id: 1176633\n",
      "\n"
     ]
    }
   ],
   "source": [
    "# Example usage\n",
    "# Assuming df_ads is your DataFrame\n",
    "description_ads = describe_dataframe(df_ads)\n",
    "print(description_ads)"
   ]
  },
  {
   "cell_type": "markdown",
   "metadata": {},
   "source": [
    "## Answer to Feeds Table"
   ]
  },
  {
   "cell_type": "code",
   "execution_count": 18,
   "metadata": {},
   "outputs": [
    {
     "name": "stdout",
     "output_type": "stream",
     "text": [
      "(I) Shape of the DataFrame:\n",
      "The DataFrame has 3227732 rows and 28 columns.\n",
      "\n",
      "(II) Columns of the DataFrame:\n",
      "u_userId, u_phonePrice, u_browserLifeCycle, u_browserMode, u_feedLifeCycle\n",
      "u_refreshTimes, u_newsCatInterests, u_newsCatDislike, u_newsCatInterestsST, u_click_ca2_news\n",
      "i_docId, i_s_sourceId, i_regionEntity, i_cat, i_entities\n",
      "i_dislikeTimes, i_upTimes, i_dtype, e_ch, e_m\n",
      "e_po, e_pl, e_rn, e_section, e_et\n",
      "label, cillabel, pro\n",
      "\n",
      "(III) Number of unique values per column (sorted in ascending order):\n",
      "label: 2, e_section: 2, cillabel: 2, i_dtype: 5, u_phonePrice: 7\n",
      "u_browserLifeCycle: 8, u_browserMode: 8, u_feedLifeCycle: 8, u_refreshTimes: 10, i_upTimes: 10\n",
      "i_dislikeTimes: 10, e_ch: 19, e_po: 27, pro: 85, e_rn: 99\n",
      "i_cat: 208, e_m: 274, i_regionEntity: 378, u_newsCatDislike: 810, e_pl: 3113\n",
      "e_et: 3663, i_s_sourceId: 4040, i_entities: 92746, i_docId: 98600, u_userId: 180123\n",
      "u_newsCatInterests: 202636, u_newsCatInterestsST: 625044, u_click_ca2_news: 758921\n",
      "\n"
     ]
    }
   ],
   "source": [
    "# Example usage\n",
    "# Assuming df_feeds is your DataFrame\n",
    "description_feeds = describe_dataframe(df_feeds)\n",
    "print(description_feeds)"
   ]
  },
  {
   "cell_type": "markdown",
   "metadata": {},
   "source": [
    "# Step 2 Check user ID in both Tables\n",
    "\n",
    "- 36.25% of User ID are potential customers (who do click ads)\n",
    "- 63.75% of User ID are ad viewers without engagement (who didn't click ads)"
   ]
  },
  {
   "cell_type": "code",
   "execution_count": 25,
   "metadata": {},
   "outputs": [
    {
     "name": "stdout",
     "output_type": "stream",
     "text": [
      "(I) Number of unique matching IDs:\n",
      "    - Ads dataset: 65297\n",
      "    - Feeds dataset: 180123\n",
      "\n",
      "(II) Common IDs for data collaboration:\n",
      "    - There are 65297 common IDs in both tables.\n",
      "    - This represents 100.00% of the IDs in the ads dataset\n",
      "    - And 36.25% of the IDs in the feeds dataset.\n",
      "\n",
      "(III) Ad Views Without Engagement and Potential Customers:\n",
      "    - Ad views without engagement: 114826 (63.75% of the total unique IDs)\n",
      "    - Potential customers: 65297 (36.25% of the total unique IDs)\n",
      "\n"
     ]
    }
   ],
   "source": [
    "def describe_common_ids(df_ads, df_feeds):\n",
    "    # Solution 1: Print the number of unique matching IDs in both datasets\n",
    "    unique_ads_ids = len(df_ads['user_id'].unique())\n",
    "    unique_feeds_ids = len(df_feeds['u_userId'].unique())\n",
    "    \n",
    "    print(f\"(I) Number of unique matching IDs:\")\n",
    "    print(f\"    - Ads dataset: {unique_ads_ids}\")\n",
    "    print(f\"    - Feeds dataset: {unique_feeds_ids}\\n\")\n",
    "\n",
    "    # Solution 2: Find common IDs between both datasets\n",
    "    ads_ids = set(df_ads['user_id'].unique())\n",
    "    feeds_ids = set(df_feeds['u_userId'].unique())\n",
    "    common_ids = ads_ids.intersection(feeds_ids)\n",
    "    common_ids_count = len(common_ids)\n",
    "    \n",
    "    ads_common_percentage = (common_ids_count / unique_ads_ids) * 100\n",
    "    feeds_common_percentage = (common_ids_count / unique_feeds_ids) * 100\n",
    "    \n",
    "    print(f\"(II) Common IDs for data collaboration:\")\n",
    "    print(f\"    - There are {common_ids_count} common IDs in both tables.\")\n",
    "    print(f\"    - This represents {ads_common_percentage:.2f}% of the IDs in the ads dataset\")\n",
    "    print(f\"    - And {feeds_common_percentage:.2f}% of the IDs in the feeds dataset.\\n\")\n",
    "\n",
    "    # Solution 3: Define ad views without engagement and potential customers\n",
    "    ad_views_without_engagement = feeds_ids - ads_ids\n",
    "    potential_customers = common_ids\n",
    "    \n",
    "    total_unique_ids = unique_feeds_ids\n",
    "    ad_views_without_engagement_percentage = (len(ad_views_without_engagement) / total_unique_ids) * 100\n",
    "    potential_customers_percentage = (len(potential_customers) / total_unique_ids) * 100\n",
    "    \n",
    "    print(f\"(III) Ad Views Without Engagement and Potential Customers:\")\n",
    "    print(f\"    - Ad views without engagement: {len(ad_views_without_engagement)} ({ad_views_without_engagement_percentage:.2f}% of the total unique IDs)\")\n",
    "    print(f\"    - Potential customers: {len(potential_customers)} ({potential_customers_percentage:.2f}% of the total unique IDs)\\n\")\n",
    "\n",
    "# Example usage\n",
    "# Assuming df_ads and df_feeds are your DataFrames\n",
    "describe_common_ids(df_ads, df_feeds)"
   ]
  },
  {
   "cell_type": "markdown",
   "metadata": {},
   "source": [
    "# Step 3 Visualize the results"
   ]
  },
  {
   "cell_type": "code",
   "execution_count": 38,
   "metadata": {},
   "outputs": [
    {
     "name": "stdout",
     "output_type": "stream",
     "text": [
      "Ad views without engagement: 114826 (63.75% of the total unique IDs)\n",
      "Potential customers: 65297 (36.25% of the total unique IDs)\n"
     ]
    },
    {
     "data": {
      "image/png": "[encoded data removed]",
      "text/plain": [
       "<Figure size 640x480 with 1 Axes>"
      ]
     },
     "metadata": {},
     "output_type": "display_data"
    }
   ],
   "source": [
    "import matplotlib.pyplot as plt\n",
    "\n",
    "def calculate_and_visualize_common_ids(df_ads, df_feeds):\n",
    "    # Find unique IDs in both datasets\n",
    "    ads_ids = set(df_ads['user_id'].unique())\n",
    "    feeds_ids = set(df_feeds['u_userId'].unique())\n",
    "    common_ids = ads_ids.intersection(feeds_ids)\n",
    "    \n",
    "    # Define ad views without engagement and potential customers\n",
    "    ad_views_without_engagement = feeds_ids - ads_ids\n",
    "    potential_customers = common_ids\n",
    "    \n",
    "    total_unique_ids = len(feeds_ids)\n",
    "    ad_views_without_engagement_count = len(ad_views_without_engagement)\n",
    "    potential_customers_count = len(potential_customers)\n",
    "    \n",
    "    ad_views_without_engagement_percentage = (ad_views_without_engagement_count / total_unique_ids) * 100\n",
    "    potential_customers_percentage = (potential_customers_count / total_unique_ids) * 100\n",
    "\n",
    "    # Print the percentages\n",
    "    print(f\"Ad views without engagement: {ad_views_without_engagement_count} ({ad_views_without_engagement_percentage:.2f}% of the total unique IDs)\")\n",
    "    print(f\"Potential customers: {potential_customers_count} ({potential_customers_percentage:.2f}% of the total unique IDs)\")\n",
    "\n",
    "    # Visualization\n",
    "    labels = ['Ad Views Without Engagement', 'Potential Customers']\n",
    "    counts = [ad_views_without_engagement_count, potential_customers_count]\n",
    "    percentages = [ad_views_without_engagement_percentage, potential_customers_percentage]\n",
    "\n",
    "    fig, ax = plt.subplots()\n",
    "\n",
    "    bars = ax.bar(labels, percentages, color=['red', 'green'])\n",
    "    ax.set_ylabel('Percentage (%)')\n",
    "    ax.set_ylim(0, 80)\n",
    "    ax.set_title('Ad Views Without Engagement and Potential Customers')\n",
    "\n",
    "    for bar, count, percentage in zip(bars, counts, percentages):\n",
    "        height = bar.get_height()\n",
    "        ax.text(bar.get_x() + bar.get_width() / 2, height - 5, f\"{count} ({percentage:.2f}%)\", ha='center', va='top', color='white')\n",
    "\n",
    "    total_text = f\"Total unique IDs in feeds dataset: {total_unique_ids}\"\n",
    "    plt.text(-0.2, 75, total_text, ha='left', va='center', fontsize=12, bbox=dict(facecolor='white', alpha=0.5))\n",
    "\n",
    "    plt.show()\n",
    "\n",
    "# Example usage\n",
    "# Assuming df_ads and df_feeds are your DataFrames\n",
    "calculate_and_visualize_common_ids(df_ads, df_feeds)\n"
   ]
  }
 ],
 "metadata": {
  "kernelspec": {
   "display_name": "MLcore",
   "language": "python",
   "name": "python3"
  },
  "language_info": {
   "codemirror_mode": {
    "name": "ipython",
    "version": 3
   },
   "file_extension": ".py",
   "mimetype": "text/x-python",
   "name": "python",
   "nbconvert_exporter": "python",
   "pygments_lexer": "ipython3",
   "version": "3.10.9"
  },
  "orig_nbformat": 4
 },
 "nbformat": 4,
 "nbformat_minor": 2
}
